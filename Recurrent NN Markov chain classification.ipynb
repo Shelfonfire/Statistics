{
 "cells": [
  {
   "cell_type": "markdown",
   "id": "c09b2d59-e9ea-4e2a-8421-1cf5b5a839a8",
   "metadata": {},
   "source": [
    "# Recurrent NN: predicting between Markov chains"
   ]
  },
  {
   "cell_type": "markdown",
   "id": "3fbfbe34-55f1-45d7-821f-7b3daefcaff5",
   "metadata": {},
   "source": [
    "In this nore book, we're going to build and train a Recurrent neural network to determine which one of four markov chains our data is coming from.\n",
    "\n",
    "It will take it's input from k sequential discrete time steps which will correspond to a random walk of one of the markov chains.\n",
    "\n",
    "We design the markov chains as follows:\n",
    "\n",
    "\n"
   ]
  },
  {
   "cell_type": "code",
   "execution_count": null,
   "id": "fefa90d2-1ef7-4260-8391-6956bbb9dbb4",
   "metadata": {},
   "outputs": [],
   "source": []
  },
  {
   "cell_type": "code",
   "execution_count": null,
   "id": "b215ad3d-1bcb-463d-a626-10686e8fe334",
   "metadata": {},
   "outputs": [],
   "source": []
  },
  {
   "cell_type": "code",
   "execution_count": null,
   "id": "bc85844f-e6e0-4206-adb6-7c05f1e51241",
   "metadata": {},
   "outputs": [],
   "source": []
  },
  {
   "cell_type": "code",
   "execution_count": null,
   "id": "19974639-8dd1-4f85-8655-12338ec70e79",
   "metadata": {},
   "outputs": [],
   "source": []
  },
  {
   "cell_type": "markdown",
   "id": "46fd39f0-2e94-48c5-be0c-1ed7963a89c4",
   "metadata": {},
   "source": []
  }
 ],
 "metadata": {
  "kernelspec": {
   "display_name": "Python 3 (ipykernel)",
   "language": "python",
   "name": "python3"
  },
  "language_info": {
   "codemirror_mode": {
    "name": "ipython",
    "version": 3
   },
   "file_extension": ".py",
   "mimetype": "text/x-python",
   "name": "python",
   "nbconvert_exporter": "python",
   "pygments_lexer": "ipython3",
   "version": "3.10.9"
  }
 },
 "nbformat": 4,
 "nbformat_minor": 5
}
